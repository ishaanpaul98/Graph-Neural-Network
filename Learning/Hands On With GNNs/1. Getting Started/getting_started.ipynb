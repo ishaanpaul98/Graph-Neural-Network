{
 "cells": [
  {
   "cell_type": "markdown",
   "metadata": {},
   "source": [
    "# Importing Libraries"
   ]
  },
  {
   "cell_type": "code",
   "execution_count": 1,
   "metadata": {},
   "outputs": [],
   "source": [
    "#!pip install torch-spline-conv\n",
    "#!pip install torch-geometric-temporal --no-dependencies"
   ]
  },
  {
   "cell_type": "code",
   "execution_count": 2,
   "metadata": {},
   "outputs": [
    {
     "name": "stderr",
     "output_type": "stream",
     "text": [
      "/Users/ishaanpaul/Desktop/Extras/Graph-Neural-Network/.venv/lib/python3.12/site-packages/tqdm/auto.py:21: TqdmWarning: IProgress not found. Please update jupyter and ipywidgets. See https://ipywidgets.readthedocs.io/en/stable/user_install.html\n",
      "  from .autonotebook import tqdm as notebook_tqdm\n"
     ]
    },
    {
     "name": "stdout",
     "output_type": "stream",
     "text": [
      "WARNING:tensorflow:From /Users/ishaanpaul/Desktop/Extras/Graph-Neural-Network/.venv/lib/python3.12/site-packages/tensorflow/python/util/deprecation.py:588: calling function (from tensorflow.python.eager.polymorphic_function.polymorphic_function) with experimental_relax_shapes is deprecated and will be removed in a future version.\n",
      "Instructions for updating:\n",
      "experimental_relax_shapes is deprecated, use reduce_retracing instead\n"
     ]
    }
   ],
   "source": [
    "import torchvision\n",
    "import torchaudio\n",
    "import pandas\n",
    "import gensim\n",
    "import torch_scatter\n",
    "import torch_sparse\n",
    "import torch_cluster\n",
    "import setuptools.dist\n",
    "#import torch-spline-conv\n",
    "import torch_geometric\n",
    "import networkx\n",
    "import matplotlib\n",
    "import node2vec\n",
    "import seaborn\n",
    "import sklearn\n",
    "import tensorflow\n",
    "import deepchem\n",
    "#import torch_geometric_temporal\n",
    "import captum"
   ]
  },
  {
   "cell_type": "markdown",
   "metadata": {},
   "source": [
    "# Chapter 2"
   ]
  },
  {
   "cell_type": "code",
   "execution_count": 3,
   "metadata": {},
   "outputs": [],
   "source": [
    "import networkx as nx"
   ]
  },
  {
   "cell_type": "code",
   "execution_count": 4,
   "metadata": {},
   "outputs": [],
   "source": [
    "# To create a unweighted, undirected graph\n",
    "G = nx.Graph()\n",
    "G.add_edges_from([('A', 'B'), ('A', 'C'), ('B', 'D'),\n",
    "('B', 'E'), ('C', 'F'), ('C', 'G')])"
   ]
  },
  {
   "cell_type": "code",
   "execution_count": 5,
   "metadata": {},
   "outputs": [],
   "source": [
    "# To create a directed graph\n",
    "DG = nx.DiGraph()\n",
    "DG.add_edges_from([('A', 'B'), ('A', 'C'), ('B', 'D'),\n",
    "('B', 'E'), ('C', 'F'), ('C', 'G')])"
   ]
  },
  {
   "cell_type": "code",
   "execution_count": 6,
   "metadata": {},
   "outputs": [],
   "source": [
    "# To create a weighted graph\n",
    "WG = nx.Graph()\n",
    "WG.add_edges_from([('A', 'B', {\"weight\": 10}), ('A', 'C',\n",
    "{\"weight\": 20}), ('B', 'D', {\"weight\": 30}), ('B', 'E',\n",
    "{\"weight\": 40}), ('C', 'F', {\"weight\": 50}), ('C', 'G',\n",
    "{\"weight\": 60})])\n",
    "labels = nx.get_edge_attributes(WG, \"weight\")"
   ]
  },
  {
   "cell_type": "code",
   "execution_count": 7,
   "metadata": {},
   "outputs": [
    {
     "name": "stdout",
     "output_type": "stream",
     "text": [
      "Is graph 1 connected? False\n",
      "Is graph 2 connected? True\n"
     ]
    }
   ],
   "source": [
    "# To create connected graphs\n",
    "G1 = nx.Graph()\n",
    "G1.add_edges_from([(1, 2), (2, 3), (3, 1), (4, 5)])\n",
    "# This should come back as false since 1,2,3 are connected and 4,5 is disconnected\n",
    "print(f\"Is graph 1 connected? {nx.is_connected(G1)}\")\n",
    "G2 = nx.Graph()\n",
    "G2.add_edges_from([(1, 2), (2, 3), (3, 1), (1, 4)])\n",
    "# This should come back as true since there is a path between any nodes u, v in graph G2\n",
    "print(f\"Is graph 2 connected? {nx.is_connected(G2)}\")"
   ]
  },
  {
   "cell_type": "code",
   "execution_count": 8,
   "metadata": {},
   "outputs": [
    {
     "name": "stdout",
     "output_type": "stream",
     "text": [
      "deg(A) = 2\n"
     ]
    }
   ],
   "source": [
    "# Calculating the degree of a node in an undirected graph\n",
    "G = nx.Graph()\n",
    "G.add_edges_from([('A', 'B'), ('A', 'C'), ('B', 'D'), ('B',\n",
    "'E'), ('C', 'F'), ('C', 'G')])\n",
    "print(f\"deg(A) = {G.degree['A']}\")"
   ]
  },
  {
   "cell_type": "code",
   "execution_count": 9,
   "metadata": {},
   "outputs": [
    {
     "name": "stdout",
     "output_type": "stream",
     "text": [
      "deg^-(A) = 0\n",
      "deg^+(A) = 2\n"
     ]
    }
   ],
   "source": [
    "# Calculating the degree of a node in a directed graph\n",
    "DG = nx.DiGraph()\n",
    "DG.add_edges_from([('A', 'B'), ('A', 'C'), ('B', 'D'), ('B',\n",
    "'E'), ('C', 'F'), ('C', 'G')])\n",
    "print(f\"deg^-(A) = {DG.in_degree['A']}\")\n",
    "print(f\"deg^+(A) = {DG.out_degree['A']}\")"
   ]
  },
  {
   "cell_type": "code",
   "execution_count": 10,
   "metadata": {},
   "outputs": [
    {
     "name": "stdout",
     "output_type": "stream",
     "text": [
      "Degree centrality = {'A': 0.3333333333333333, 'B': 0.5, 'C': 0.5, 'D': 0.16666666666666666, 'E': 0.16666666666666666, 'F': 0.16666666666666666, 'G': 0.16666666666666666}\n",
      "Closeness centrality = {'A': 0.6, 'B': 0.5454545454545454, 'C': 0.5454545454545454, 'D': 0.375, 'E': 0.375, 'F': 0.375, 'G': 0.375}\n",
      "Betweenness centrality = {'A': 0.6, 'B': 0.6, 'C': 0.6, 'D': 0.0, 'E': 0.0, 'F': 0.0, 'G': 0.0}\n"
     ]
    }
   ],
   "source": [
    "# Finding the following measures related to a graph\n",
    "# 1. Degree Centrality - Degree of a node. The higher the degree is, the more influential the node is\n",
    "# 2. Closeness Centrality - Average length of the shortest path between the target node and all other nodes. Node with high closeness centrality can reach other nodes very easily\n",
    "# 3. Betweenness Centrality - How often a node appears in the shortest path of 2 other nodes. It identifies bottlenecks or bridges\n",
    "print(f\"Degree centrality = {nx.degree_centrality(G)}\")\n",
    "print(f\"Closeness centrality = {nx.closeness_centrality(G)}\")\n",
    "print(f\"Betweenness centrality = {nx.betweenness_centrality(G)}\")"
   ]
  },
  {
   "cell_type": "code",
   "execution_count": 11,
   "metadata": {},
   "outputs": [],
   "source": [
    "# Creating an adjacency matrix\n",
    "# This is great for matrix operations as well as checking the connectivity of two nodes in constant time\n",
    "# Its space complexity is O(|V|^2) and is therefore difficult to resize and add new nodes, especially for larger graphs\n",
    "adj = [[0,1,1,0,0,0,0],\n",
    "[1,0,0,1,1,0,0],\n",
    "[1,0,0,0,0,1,1],\n",
    "[0,1,0,0,0,0,0],\n",
    "[0,1,0,0,0,0,0],\n",
    "[0,0,1,0,0,0,0],\n",
    "[0,0,1,0,0,0,0]]"
   ]
  },
  {
   "cell_type": "code",
   "execution_count": 12,
   "metadata": {},
   "outputs": [],
   "source": [
    "# An alternative to an adjacency matrix\n",
    "# Space complexity O(|E|)\n",
    "# Retrieving connectivity of two nodes requires traversing the list and therefore is more useful for situations where space is a concern\n",
    "edge_list = [(0, 1), (0, 2), (1, 3), (1, 4), (2, 5), (2, 6)]"
   ]
  },
  {
   "cell_type": "code",
   "execution_count": 13,
   "metadata": {},
   "outputs": [],
   "source": [
    "# Another way of representation is the adjacency list\n",
    "# Space complexity: O(|V|+|E|)\n",
    "# It allows for efficient iteration through the adjacent vertices of a node\n",
    "# checking whether two vertices are connected can be slower than with an adjacency matrix.\n",
    "adj_list = {\n",
    "0: [1, 2],\n",
    "1: [0, 3, 4],\n",
    "2: [0, 5, 6],\n",
    "3: [1],\n",
    "4: [1],\n",
    "5: [2],\n",
    "6: [2]\n",
    "}"
   ]
  },
  {
   "cell_type": "markdown",
   "metadata": {},
   "source": [
    "Breadth-First Search"
   ]
  },
  {
   "cell_type": "markdown",
   "metadata": {},
   "source": [
    "BFS is particularly useful in finding the shortest path between two nodes in an unweighted graph\n",
    "In addition to finding the shortest path, BFS can also be used to check whether a graph is connected or to find all connected components of a graph.\n",
    "The time complexity of BFS is O(|V| + |E|)"
   ]
  },
  {
   "cell_type": "code",
   "execution_count": 14,
   "metadata": {},
   "outputs": [],
   "source": [
    "G = nx.Graph()\n",
    "G.add_edges_from([('A', 'B'), ('A', 'C'), ('B', 'D'),\n",
    "('B', 'E'), ('C', 'F'), ('C', 'G')])"
   ]
  },
  {
   "cell_type": "code",
   "execution_count": 15,
   "metadata": {},
   "outputs": [],
   "source": [
    "def bfs(graph, node):\n",
    "    visited, queue = [node], [node]\n",
    "    while queue:\n",
    "        node = queue.pop(0)\n",
    "        for neighbor in graph[node]:\n",
    "            if neighbor not in visited:\n",
    "                visited.append(neighbor)\n",
    "                queue.append(neighbor)\n",
    "    return visited"
   ]
  },
  {
   "cell_type": "code",
   "execution_count": 16,
   "metadata": {},
   "outputs": [
    {
     "data": {
      "text/plain": [
       "['A', 'B', 'C', 'D', 'E', 'F', 'G']"
      ]
     },
     "execution_count": 16,
     "metadata": {},
     "output_type": "execute_result"
    }
   ],
   "source": [
    "bfs(G, 'A')"
   ]
  },
  {
   "cell_type": "markdown",
   "metadata": {},
   "source": [
    "Depth-First Search"
   ]
  },
  {
   "cell_type": "markdown",
   "metadata": {},
   "source": [
    "DFS is useful in solving various problems, such as finding connected components, topological sorting, and solving maze problems. It is particularly useful in finding cycles in a graph since it traverses the graph in a depth-first order, and a cycle exists if, and only if, a node is visited twice during the traversal. The time complexity is the same as BFS i.e. O(|V| + |E|)"
   ]
  },
  {
   "cell_type": "code",
   "execution_count": 17,
   "metadata": {},
   "outputs": [],
   "source": [
    "visited = []\n",
    "def dfs(visited, graph, node):\n",
    "    if node not in visited:\n",
    "        visited.append(node)\n",
    "        for neighbor in graph[node]:\n",
    "            visited = dfs(visited, graph, neighbor)\n",
    "    return visited"
   ]
  },
  {
   "cell_type": "code",
   "execution_count": 18,
   "metadata": {},
   "outputs": [
    {
     "data": {
      "text/plain": [
       "['A', 'B', 'D', 'E', 'C', 'F', 'G']"
      ]
     },
     "execution_count": 18,
     "metadata": {},
     "output_type": "execute_result"
    }
   ],
   "source": [
    "dfs(visited, G, 'A')"
   ]
  }
 ],
 "metadata": {
  "kernelspec": {
   "display_name": ".venv",
   "language": "python",
   "name": "python3"
  },
  "language_info": {
   "codemirror_mode": {
    "name": "ipython",
    "version": 3
   },
   "file_extension": ".py",
   "mimetype": "text/x-python",
   "name": "python",
   "nbconvert_exporter": "python",
   "pygments_lexer": "ipython3",
   "version": "3.12.7"
  }
 },
 "nbformat": 4,
 "nbformat_minor": 2
}

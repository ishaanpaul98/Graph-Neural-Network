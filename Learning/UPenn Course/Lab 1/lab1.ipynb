{
 "cells": [
  {
   "cell_type": "markdown",
   "metadata": {},
   "source": [
    "# Importing Libraries"
   ]
  },
  {
   "cell_type": "code",
   "execution_count": 9,
   "metadata": {},
   "outputs": [],
   "source": [
    "import numpy as np\n",
    "import pandas as pd \n",
    "import matplotlib.pyplot as plt\n"
   ]
  },
  {
   "cell_type": "markdown",
   "metadata": {},
   "source": [
    "# 1: Statistical Risk Minimization"
   ]
  },
  {
   "cell_type": "code",
   "execution_count": 10,
   "metadata": {},
   "outputs": [],
   "source": [
    "def sampleGenerator(m,n):\n",
    "    A = np.random.binomial(1, 1/m, (m, n))\n",
    "    return A"
   ]
  },
  {
   "cell_type": "code",
   "execution_count": 11,
   "metadata": {},
   "outputs": [],
   "source": [
    "def linearModelSampleGenerator(A, Q):\n",
    "    #y = Ax+w\n",
    "    [m, n] = A.shape\n",
    "    x = np.random.normal(np.zeros((Q, n)), np.sqrt(1/2/n))\n",
    "    w = np.random.normal(np.zeros((Q, m)), np.sqrt(1/2/m))\n",
    "    y = x @ A.T + w\n",
    "    return y, x"
   ]
  },
  {
   "cell_type": "code",
   "execution_count": 13,
   "metadata": {},
   "outputs": [],
   "source": [
    "def signLinearSampleGenerator(A, Q):\n",
    "    [m, n] = A.shape\n",
    "    x = np.random.normal(np.zeros(Q, n), np.sqrt(1/2/n))\n",
    "    w = np.random.normal(np.zeros(Q, m), np.sqrt(1/2/m))\n",
    "    y = np.sign(x @ A.T + w)\n",
    "    return y, x"
   ]
  },
  {
   "cell_type": "markdown",
   "metadata": {},
   "source": [
    "# 2: Empirical Risk Minimization"
   ]
  },
  {
   "cell_type": "markdown",
   "metadata": {},
   "source": [
    "1. "
   ]
  }
 ],
 "metadata": {
  "kernelspec": {
   "display_name": "Python 3",
   "language": "python",
   "name": "python3"
  },
  "language_info": {
   "codemirror_mode": {
    "name": "ipython",
    "version": 3
   },
   "file_extension": ".py",
   "mimetype": "text/x-python",
   "name": "python",
   "nbconvert_exporter": "python",
   "pygments_lexer": "ipython3",
   "version": "3.12.4"
  }
 },
 "nbformat": 4,
 "nbformat_minor": 2
}

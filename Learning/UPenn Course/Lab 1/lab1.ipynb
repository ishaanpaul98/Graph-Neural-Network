{
 "cells": [
  {
   "cell_type": "markdown",
   "metadata": {},
   "source": [
    "# Importing Libraries"
   ]
  },
  {
   "cell_type": "code",
   "execution_count": 12,
   "metadata": {},
   "outputs": [],
   "source": [
    "import numpy as np\n",
    "import pandas as pd \n",
    "import matplotlib.pyplot as plt\n"
   ]
  },
  {
   "cell_type": "markdown",
   "metadata": {},
   "source": [
    "# 1: Statistical Risk Minimization"
   ]
  },
  {
   "cell_type": "code",
   "execution_count": 13,
   "metadata": {},
   "outputs": [],
   "source": [
    "def sampleGenerator(m,n):\n",
    "    A = np.random.binomial(1, 1/m, (m, n))\n",
    "    return A"
   ]
  },
  {
   "cell_type": "code",
   "execution_count": 14,
   "metadata": {},
   "outputs": [],
   "source": [
    "def linearModelSampleGenerator(A, Q):\n",
    "    #y = Ax+w\n",
    "    [m, n] = A.shape\n",
    "    x = np.random.normal(np.zeros((Q, n)), np.sqrt(1/2/n))\n",
    "    w = np.random.normal(np.zeros((Q, m)), np.sqrt(1/2/m))\n",
    "    y = x @ A.T + w\n",
    "    return x, y"
   ]
  },
  {
   "cell_type": "code",
   "execution_count": 15,
   "metadata": {},
   "outputs": [],
   "source": [
    "def signLinearSampleGenerator(A, Q):\n",
    "    [m, n] = A.shape\n",
    "    x = np.random.normal(np.zeros((Q, n)), np.sqrt(1/2/n))\n",
    "    w = np.random.normal(np.zeros((Q, m)), np.sqrt(1/2/m))\n",
    "    y = np.sign(x @ A.T + w)\n",
    "    return x, y"
   ]
  },
  {
   "cell_type": "markdown",
   "metadata": {},
   "source": [
    "# 2: Empirical Risk Minimization"
   ]
  },
  {
   "cell_type": "markdown",
   "metadata": {},
   "source": [
    "1. A solution to (7) is ø($x_{q}$) = $y_{q}$\n",
    "\n",
    "\n"
   ]
  },
  {
   "cell_type": "markdown",
   "metadata": {},
   "source": [
    "2. Since the equation does not give us a way of predicting the outputs. There are many solutions to the equation making it difficult to use for predictions. This makes it a characteristic and not a viable solution by itself."
   ]
  },
  {
   "cell_type": "markdown",
   "metadata": {},
   "source": [
    "# 3: Learning Parameterizations"
   ]
  },
  {
   "cell_type": "code",
   "execution_count": 16,
   "metadata": {},
   "outputs": [],
   "source": [
    "m=n=10^2\n",
    "Q = 10^3\n",
    "A = sampleGenerator(m,n)\n",
    "X, Y = signLinearSampleGenerator(A, Q)\n",
    "\n",
    "H = Y.T @ X @ np.linalg.inv(X.T @ X)"
   ]
  },
  {
   "cell_type": "code",
   "execution_count": 18,
   "metadata": {},
   "outputs": [],
   "source": [
    "def l_mse(H, x, y):\n",
    "    y_hat = x @ H.T\n",
    "    return np.mean(0.5 * np.linalg.norm(y - y_hat, axis=1)**2)"
   ]
  },
  {
   "cell_type": "code",
   "execution_count": 19,
   "metadata": {},
   "outputs": [],
   "source": [
    "loss = l_mse(H, X, Y)"
   ]
  },
  {
   "cell_type": "code",
   "execution_count": 20,
   "metadata": {},
   "outputs": [
    {
     "name": "stdout",
     "output_type": "stream",
     "text": [
      "The loss is:  0.45809813227608487\n"
     ]
    }
   ],
   "source": [
    "print(\"The loss is: \", loss)"
   ]
  },
  {
   "cell_type": "code",
   "execution_count": 21,
   "metadata": {},
   "outputs": [
    {
     "name": "stdout",
     "output_type": "stream",
     "text": [
      "The loss is:  0.04057567385554346\n"
     ]
    }
   ],
   "source": [
    "A_1 = sampleGenerator(m,n)\n",
    "X_1, Y_1 = linearModelSampleGenerator(A_1, Q)\n",
    "H_1 = Y_1.T @ X_1 @ np.linalg.inv(X_1.T @ X_1)\n",
    "loss_1 = l_mse(H_1, X_1, Y_1)\n",
    "print(\"The loss is: \", loss_1)"
   ]
  },
  {
   "cell_type": "code",
   "execution_count": 22,
   "metadata": {},
   "outputs": [
    {
     "name": "stdout",
     "output_type": "stream",
     "text": [
      "The loss is:  3.6807965032391974\n"
     ]
    }
   ],
   "source": [
    "m=n=10^4\n",
    "Q = 10^3\n",
    "A_2 = sampleGenerator(m,n)\n",
    "X_2, Y_2 = linearModelSampleGenerator(A_2, Q)\n",
    "H_2 = Y_2.T @ X_2 @ np.linalg.inv(X_2.T @ X_2)\n",
    "loss_2 = l_mse(H_2, X_2, Y_2)\n",
    "print(\"The loss is: \", loss_2)"
   ]
  },
  {
   "cell_type": "markdown",
   "metadata": {},
   "source": [
    "# 4: Stochastic Gradient Descent"
   ]
  },
  {
   "cell_type": "code",
   "execution_count": 23,
   "metadata": {},
   "outputs": [],
   "source": [
    "m=10**2\n",
    "def Grad(X,Y,H):\n",
    "    matricial=(1/X.shape[0] ) * (-Y.T+H@X.T)@(X)\n",
    "    return matricial"
   ]
  },
  {
   "cell_type": "code",
   "execution_count": 24,
   "metadata": {},
   "outputs": [
    {
     "data": {
      "image/png": "[encoded data removed]",
      "text/plain": [
       "<Figure size 640x480 with 1 Axes>"
      ]
     },
     "metadata": {},
     "output_type": "display_data"
    }
   ],
   "source": [
    "n=10**2\n",
    "m=10**2\n",
    "Q=10**3\n",
    "\n",
    "b_size=10 #Batch Size\n",
    "stepsize=1 #Stepsize, e.g. epsilon\n",
    "\n",
    "A=sampleGenerator(m,n)\n",
    "T_x,T_y=signLinearSampleGenerator(A,Q)\n",
    "Test_x,Test_y=signLinearSampleGenerator(A,Q)\n",
    "\n",
    "H=np.zeros((m,n))\n",
    "error_train=[]\n",
    "error_test=[]\n",
    "\n",
    "for i in range(Q):\n",
    "    permutation = np.random.permutation(Q) #Get an with the first Q integers in random order\n",
    "    mb_x= np.array([T_x[index] for index in permutation[0:b_size] ])  # Sub Sample Training Set\n",
    "    mb_y =np.array( [T_y[index] for index in permutation[0:b_size] ])  # Sub Sample Training Set\n",
    "\n",
    "    grad=Grad(mb_x,mb_y,H) #Compute Gradient\n",
    "    H=H-stepsize*grad #Compute the learning step\n",
    "\n",
    "\n",
    "    error_train=error_train+[np.linalg.norm(T_y.T-H@T_x.T)**2/Q]\n",
    "    error_test=error_test+[np.linalg.norm(Test_y.T-H@Test_x.T)**2/Q]\n",
    "\n",
    "\n",
    "plt.plot(range(len(error_train)),error_train,'*r') #Plot\n",
    "plt.plot(range(len(error_train)),error_test,'*b') #Plot\n",
    "\n",
    "plt.title('MSE using Gradient Descent')\n",
    "plt.xlabel('Iterations')\n",
    "plt.ylabel('MSE')\n",
    "plt.savefig('MSE_computing_grad.pdf', bbox_inches='tight', dpi=150)\n",
    "plt.show()"
   ]
  },
  {
   "cell_type": "code",
   "execution_count": null,
   "metadata": {},
   "outputs": [],
   "source": []
  }
 ],
 "metadata": {
  "kernelspec": {
   "display_name": "Python 3",
   "language": "python",
   "name": "python3"
  },
  "language_info": {
   "codemirror_mode": {
    "name": "ipython",
    "version": 3
   },
   "file_extension": ".py",
   "mimetype": "text/x-python",
   "name": "python",
   "nbconvert_exporter": "python",
   "pygments_lexer": "ipython3",
   "version": "3.12.4"
  }
 },
 "nbformat": 4,
 "nbformat_minor": 2
}
